{
  "nbformat": 4,
  "nbformat_minor": 0,
  "metadata": {
    "colab": {
      "private_outputs": true,
      "provenance": [],
      "collapsed_sections": [
        "F6zbsuNs6xZF",
        "p9SHghdUw2O_"
      ],
      "include_colab_link": true
    },
    "kernelspec": {
      "name": "python3",
      "display_name": "Python 3"
    },
    "language_info": {
      "name": "python"
    },
    "gpuClass": "standard",
    "accelerator": "GPU"
  },
  "cells": [
    {
      "cell_type": "markdown",
      "metadata": {
        "id": "view-in-github",
        "colab_type": "text"
      },
      "source": [
        "<a href=\"https://colab.research.google.com/github/jamiantobarbato/music_ai/blob/main/4_Steps_RVC_(rejekts)_rarely_mantained.ipynb\" target=\"_parent\"><img src=\"https://colab.research.google.com/assets/colab-badge.svg\" alt=\"Open In Colab\"/></a>"
      ]
    },
    {
      "cell_type": "markdown",
      "source": [
        "## This Notebook is rarely mantained regularily. If it fails, try the link below:\n",
        "## https://colab.research.google.com/drive/1TU-kkQWVf-PLO_hSa2QCMZS1XF5xVHqs"
      ],
      "metadata": {
        "id": "fp2B7y0NZPwv"
      }
    },
    {
      "cell_type": "markdown",
      "source": [
        "#Step 1. Install everything and connect your Drive (RUN THIS ONE FIRST)"
      ],
      "metadata": {
        "id": "F6zbsuNs6xZF"
      }
    },
    {
      "cell_type": "markdown",
      "source": [
        "[![Open In Colab](https://colab.research.google.com/assets/colab-badge.svg)](https://colab.research.google.com/github/liujing04/Retrieval-based-Voice-Conversion-WebUI/blob/main/Retrieval_based_Voice_Conversion_WebUI.ipynb)\n",
        "If you want to open the ORIGINAL Colab go here!"
      ],
      "metadata": {
        "id": "ZFFCx5J80SGa"
      }
    },
    {
      "cell_type": "code",
      "execution_count": null,
      "metadata": {
        "id": "GmFP6bN9dvOq",
        "cellView": "form"
      },
      "outputs": [],
      "source": [
        "#@title GPU Check\n",
        "!nvidia-smi"
      ]
    },
    {
      "cell_type": "code",
      "source": [
        "#@title Install Dependencies\n",
        "%cd /content\n",
        "import tarfile, os, shutil\n",
        "!wget https://github.com/777gt/EVC/raw/main/Packages.tar.gz\n",
        "with tarfile.open('/content/Packages.tar.gz', 'r:gz') as tar:\n",
        "      for member in tar.getmembers():\n",
        "        target_path = os.path.join('/', member.name)\n",
        "        tar.extract(member, '/')\n",
        "!pip install espnet --quiet\n",
        "import ipywidgets as widgets\n",
        "from IPython.display import clear_output\n",
        "success=widgets.Button(description=\"\\u2714 Done\",disabled=True, button_style=\"success\")"
      ],
      "metadata": {
        "id": "wjddIFr1oS3W",
        "cellView": "form"
      },
      "execution_count": null,
      "outputs": []
    },
    {
      "cell_type": "code",
      "source": [
        "#@title Clone Github Repository (from kalomaze's emergency fix fork)\n",
        "#%cd /content/\n",
        "#!git clone https://github.com/fumiama/Retrieval-based-Voice-Conversion-WebUI\n",
        "#%cd /content/Retrieval-based-Voice-Conversion-WebUI\n",
        "#!mkdir -p pretrained uvr5_weights\n",
        "#!git pull\n",
        "\n",
        "%cd /content/\n",
        "#!wget https://github.com/kalomaze/Retrieval-based-Voice-Conversion-WebUI/releases/download/20230428updated/updated20230428.zip\n",
        "!wget https://github.com/777gt/EVC/raw/main/ngrokabled.zip\n",
        "!mkdir /content/Retrieval-based-Voice-Conversion-WebUI\n",
        "!unzip -d /content/Retrieval-based-Voice-Conversion-WebUI -b ngrokabled.zip\n",
        "!rm ngrokabled.zip\n",
        "%cd /content/Retrieval-based-Voice-Conversion-WebUI\n",
        "!wget https://raw.githubusercontent.com/777gt/EVC/main/easy-infer.py\n",
        "!mkdir -p pretrained uvr5_weights"
      ],
      "metadata": {
        "id": "ge_97mfpgqTm"
      },
      "execution_count": null,
      "outputs": []
    },
    {
      "cell_type": "code",
      "source": [
        "#@title Download the Base Model\n",
        "!aria2c --console-log-level=error -c -x 16 -s 16 -k 1M https://huggingface.co/lj1995/VoiceConversionWebUI/resolve/main/pretrained/D32k.pth -d /content/Retrieval-based-Voice-Conversion-WebUI/pretrained -o D32k.pth\n",
        "!aria2c --console-log-level=error -c -x 16 -s 16 -k 1M https://huggingface.co/lj1995/VoiceConversionWebUI/resolve/main/pretrained/D40k.pth -d /content/Retrieval-based-Voice-Conversion-WebUI/pretrained -o D40k.pth\n",
        "!aria2c --console-log-level=error -c -x 16 -s 16 -k 1M https://huggingface.co/lj1995/VoiceConversionWebUI/resolve/main/pretrained/D48k.pth -d /content/Retrieval-based-Voice-Conversion-WebUI/pretrained -o D48k.pth\n",
        "!aria2c --console-log-level=error -c -x 16 -s 16 -k 1M https://huggingface.co/lj1995/VoiceConversionWebUI/resolve/main/pretrained/G32k.pth -d /content/Retrieval-based-Voice-Conversion-WebUI/pretrained -o G32k.pth\n",
        "!aria2c --console-log-level=error -c -x 16 -s 16 -k 1M https://huggingface.co/lj1995/VoiceConversionWebUI/resolve/main/pretrained/G40k.pth -d /content/Retrieval-based-Voice-Conversion-WebUI/pretrained -o G40k.pth\n",
        "!aria2c --console-log-level=error -c -x 16 -s 16 -k 1M https://huggingface.co/lj1995/VoiceConversionWebUI/resolve/main/pretrained/G48k.pth -d /content/Retrieval-based-Voice-Conversion-WebUI/pretrained -o G48k.pth\n",
        "!aria2c --console-log-level=error -c -x 16 -s 16 -k 1M https://huggingface.co/lj1995/VoiceConversionWebUI/resolve/main/pretrained/f0D32k.pth -d /content/Retrieval-based-Voice-Conversion-WebUI/pretrained -o f0D32k.pth\n",
        "!aria2c --console-log-level=error -c -x 16 -s 16 -k 1M https://huggingface.co/lj1995/VoiceConversionWebUI/resolve/main/pretrained/f0D40k.pth -d /content/Retrieval-based-Voice-Conversion-WebUI/pretrained -o f0D40k.pth\n",
        "!aria2c --console-log-level=error -c -x 16 -s 16 -k 1M https://huggingface.co/lj1995/VoiceConversionWebUI/resolve/main/pretrained/f0D48k.pth -d /content/Retrieval-based-Voice-Conversion-WebUI/pretrained -o f0D48k.pth\n",
        "!aria2c --console-log-level=error -c -x 16 -s 16 -k 1M https://huggingface.co/lj1995/VoiceConversionWebUI/resolve/main/pretrained/f0G32k.pth -d /content/Retrieval-based-Voice-Conversion-WebUI/pretrained -o f0G32k.pth\n",
        "!aria2c --console-log-level=error -c -x 16 -s 16 -k 1M https://huggingface.co/lj1995/VoiceConversionWebUI/resolve/main/pretrained/f0G40k.pth -d /content/Retrieval-based-Voice-Conversion-WebUI/pretrained -o f0G40k.pth\n",
        "!aria2c --console-log-level=error -c -x 16 -s 16 -k 1M https://huggingface.co/lj1995/VoiceConversionWebUI/resolve/main/pretrained/f0G48k.pth -d /content/Retrieval-based-Voice-Conversion-WebUI/pretrained -o f0G48k.pth\n",
        "\n",
        "!aria2c --console-log-level=error -c -x 16 -s 16 -k 1M https://huggingface.co/lj1995/VoiceConversionWebUI/resolve/main/uvr5_weights/HP2-人声vocals+非人声instrumentals.pth -d /content/Retrieval-based-Voice-Conversion-WebUI/uvr5_weights -o HP2-人声vocals+非人声instrumentals.pth\n",
        "!aria2c --console-log-level=error -c -x 16 -s 16 -k 1M https://huggingface.co/lj1995/VoiceConversionWebUI/resolve/main/uvr5_weights/HP5-主旋律人声vocals+其他instrumentals.pth -d /content/Retrieval-based-Voice-Conversion-WebUI/uvr5_weights -o HP5-主旋律人声vocals+其他instrumentals.pth\n",
        "\n",
        "!aria2c --console-log-level=error -c -x 16 -s 16 -k 1M https://huggingface.co/lj1995/VoiceConversionWebUI/resolve/main/hubert_base.pt -d /content/Retrieval-based-Voice-Conversion-WebUI -o hubert_base.pt"
      ],
      "metadata": {
        "id": "UG3XpUwEomUz"
      },
      "execution_count": null,
      "outputs": []
    },
    {
      "cell_type": "code",
      "source": [
        "#@markdown This will also create an RVC and dataset folders in your drive if they don't already exist.\n",
        "from google.colab import drive\n",
        "drive.mount('/content/drive', force_remount=True)\n",
        "!mkdir -p /content/drive/MyDrive/RVC\n",
        "!mkdir -p /content/drive/MyDrive/dataset\n",
        "!mkdir -p /content/EasyDataset"
      ],
      "metadata": {
        "id": "jwu07JgqoFON"
      },
      "execution_count": null,
      "outputs": []
    },
    {
      "cell_type": "code",
      "source": [
        "!pip install pyngrok==4.1.12 --quiet"
      ],
      "metadata": {
        "id": "EczWUCubOC3P"
      },
      "execution_count": null,
      "outputs": []
    },
    {
      "cell_type": "markdown",
      "source": [
        "#Step 2. Choose what you want to do.\n",
        "##Do you want to load a MODEL or make a new one from a DATASET?"
      ],
      "metadata": {
        "id": "XAuGUlHDB4cx"
      }
    },
    {
      "cell_type": "code",
      "source": [
        "%cd /content\n",
        "#@markdown ##Click this to load a MODEL.\n",
        "from mega import Mega\n",
        "import os\n",
        "#@markdown Name of the model (you don't need do add .zip to the name):\n",
        "MODELNAME = \"jungkook\"  #@param {type:\"string\"}\n",
        "MODELEPOCH = ''\n",
        "#@markdown If you want to load it from a link, paste it here. For more models check at the very bottom of the page.\n",
        "url='https://drive.google.com/file/d/1i5CMlcnKfVEpzD5wvwjWytrwT2fT74g6/view?usp=share_link'#@param {type:\"string\"}\n",
        "MODELZIP = MODELNAME + '.zip'\n",
        "modelname_path='/content/zips/'+MODELZIP\n",
        "!mkdir -p /content/unzips\n",
        "!mkdir -p /content/Retrieval-based-Voice-Conversion-WebUI/logs/{MODELNAME}\n",
        "if url != '':\n",
        "  !mkdir -p /content/zips/\n",
        "  if \"drive.google.com\" in url:\n",
        "    !gdown $url --fuzzy -O $modelname_path\n",
        "  elif \"mega.nz\" in url:\n",
        "    m = Mega()\n",
        "    m.download_url(url, '/content/zips')\n",
        "  else:\n",
        "    !wget $url -O /content/zips/{MODELZIP}\n",
        "  !unzip -d /content/unzips/ -B /content/zips/{MODELNAME}.zip\n",
        "  for root, dirs, files in os.walk('/content/unzips'):\n",
        "    for file in files:\n",
        "      if \"G_\" in file:\n",
        "        MODELEPOCH = file.split(\"G_\")[1].split(\".\")[0]\n",
        "    if MODELEPOCH == '':\n",
        "      MODELEPOCH = '404'\n",
        "    for file in files:\n",
        "      file_path = os.path.join(root, file)\n",
        "      if file.endswith(\".index\"):\n",
        "        !mv {file_path} /content/Retrieval-based-Voice-Conversion-WebUI/logs/{MODELNAME}/\n",
        "      elif \"G_\" in file:\n",
        "        !mv {file_path} /content/Retrieval-based-Voice-Conversion-WebUI/logs/{MODELNAME}/G_{MODELEPOCH}.pth\n",
        "      elif \"D_\" in file:\n",
        "        !mv {file_path} /content/Retrieval-based-Voice-Conversion-WebUI/logs/{MODELNAME}/D_{MODELEPOCH}.pth\n",
        "      elif \"G_\" not in file and \"D_\" not in file and file.endswith(\".pth\"):\n",
        "        !mv {file_path} /content/Retrieval-based-Voice-Conversion-WebUI/weights/{MODELNAME}.pth\n",
        "else:\n",
        "  #if url is empty, load from RVC folder.\n",
        "  if not os.path.exists(f'/content/drive/MyDrive/RVC/{MODELNAME}.zip'):\n",
        "    raise Exception('There is no such file in your RVC folder.')\n",
        "  !unzip -d /content/unzips/ -B /content/drive/MyDrive/RVC/{MODELNAME}.zip\n",
        "  for root, dirs, files in os.walk('/content/unzips'):\n",
        "    for file in files:\n",
        "      if \"G_\" in file:\n",
        "        MODELEPOCH = file.split(\"G_\")[1].split(\".\")[0]\n",
        "    if MODELEPOCH == '':\n",
        "      MODELEPOCH = '404'\n",
        "    for file in files:\n",
        "      file_path = os.path.join(root, file)\n",
        "      if file.endswith(\".index\"):\n",
        "        !mv {file_path} /content/Retrieval-based-Voice-Conversion-WebUI/logs/{MODELNAME}/\n",
        "      elif \"G_\" in file:\n",
        "        !mv {file_path} /content/Retrieval-based-Voice-Conversion-WebUI/logs/{MODELNAME}/G_{MODELEPOCH}.pth\n",
        "      elif \"D_\" in file:\n",
        "        !mv {file_path} /content/Retrieval-based-Voice-Conversion-WebUI/logs/{MODELNAME}/D_{MODELEPOCH}.pth\n",
        "      elif \"G_\" not in file and \"D_\" not in file and file.endswith(\".pth\"):\n",
        "        !mv {file_path} /content/Retrieval-based-Voice-Conversion-WebUI/weights/{MODELNAME}.pth\n",
        "  for folder in os.listdir('/content/unzips'):\n",
        "    if folder != MODELNAME:\n",
        "      !cp -r {os.path.join('/content/unzips',folder)} /content/Retrieval-based-Voice-Conversion-WebUI\n",
        "!rm -r /content/unzips/\n",
        "!rm -r /content/zips/\n",
        "clear_output()\n",
        "MODELPATH=f'/content/Retrieval-based-Voice-Conversion-WebUI/weights/{MODELNAME}.pth'\n",
        "import torch\n",
        "model_params = torch.load(MODELPATH)\n",
        "param_names = list(model_params.keys())\n",
        "for key in model_params.keys():\n",
        "    if key == 'info':\n",
        "       print('Epochs: '+model_params[str(key)])\n",
        "    if key == 'sr':\n",
        "       print('Sample Rate: '+model_params[str(key)])\n",
        "display(success)"
      ],
      "metadata": {
        "id": "OVQoLQJXS7WX",
        "cellView": "form"
      },
      "execution_count": null,
      "outputs": []
    },
    {
      "cell_type": "code",
      "source": [
        "#@markdown ##Click this to load a DATASET instead.\n",
        "DATASET = \"mydataset.zip\"  #@param {type:\"string\"}\n",
        "#@markdown This will look for that zip inside your 'dataset' folder in google drive.\n",
        "dataset_path = '/content/drive/MyDrive/dataset/' + DATASET\n",
        "import os\n",
        "if not os.path.exists(dataset_path):\n",
        "  raise Exception(f'There is no {DATASET} in {os.path.dirname(dataset_path)}')\n",
        "!mkdir -p /content/dataset\n",
        "!unzip -d /content/dataset -B {dataset_path}\n",
        "!ls -a /content/dataset/\n",
        "!rename 's/(\\w+)\\.(\\w+)~(\\d*)/$1_$3.$2/' /content/dataset/*.*~*\n",
        "clear_output()\n",
        "display(success)"
      ],
      "metadata": {
        "id": "Mwk7Q0Loqzjx",
        "cellView": "form"
      },
      "execution_count": null,
      "outputs": []
    },
    {
      "cell_type": "markdown",
      "source": [
        "#Step 3. Run the GUI by tapping on the public URL. It's gonna look like this:\n",
        "![alt text](https://drive.google.com/uc?id=1YpraB1Fc8B24TCtdzOo_AmzMMGoZXZ2e)\n"
      ],
      "metadata": {
        "id": "dGDewjhS7wXS"
      }
    },
    {
      "cell_type": "code",
      "source": [
        "#@markdown #Click here to run the GUI\n",
        "%cd /content/Retrieval-based-Voice-Conversion-WebUI\n",
        "# %load_ext tensorboard\n",
        "# %tensorboard --logdir /content/Retrieval-based-Voice-Conversion-WebUI/logs\n",
        "!mkdir -p /content/Retrieval-based-Voice-Conversion-WebUI/audios\n",
        "#@markdown When training, follow the 4 steps. 1.Process dataset, 2.Exract Features, 3.Train Index, 4.Train Model.\n",
        "easy_inferance=False\n",
        "ngrok_authtoken=''\n",
        "if ngrok_authtoken != '':\n",
        "  !ngrok authtoken $ngrok_authtoken\n",
        "if easy_inferance:\n",
        "  !python3 easy-infer.py --colab --pycmd python3\n",
        "else:\n",
        "  !python3 infer-web.py --colab --pycmd python3"
      ],
      "metadata": {
        "id": "7vh6vphDwO0b",
        "cellView": "form"
      },
      "execution_count": null,
      "outputs": []
    },
    {
      "cell_type": "markdown",
      "source": [
        "# Step 4. If you need to save a model to your RVC folder, choose a method."
      ],
      "metadata": {
        "id": "TNd_AYmtodr4"
      }
    },
    {
      "cell_type": "code",
      "source": [
        "#@markdown ##Do you want to save a 1GB file? Only needed if you want to train this model more later.\n",
        "save_big_file=False#@param {type:\"boolean\"}\n",
        "#@markdown Write the name of the model and the steps. You can find that in the log for your model.\n",
        "%cd /content\n",
        "import shutil, os\n",
        "MODELNAME = \"\"  #@param {type:\"string\"}\n",
        "MODELEPOCH = 2333333  #@param {type:\"integer\"}\n",
        "\n",
        "if os.path.exists('/content/zips'):\n",
        "  shutil.rmtree('/content/zips')\n",
        "print('Removed zips.')\n",
        "!mkdir -p /content/zips/{MODELNAME}/\n",
        "print('Created zips.')\n",
        "if f\"{MODELNAME}.pth\" not in os.listdir(f'/content/Retrieval-based-Voice-Conversion-WebUI/weights'):\n",
        "  print('There is no weight file with that name')\n",
        "if not save_big_file:\n",
        "  !cp /content/Retrieval-based-Voice-Conversion-WebUI/logs/{MODELNAME}/added_*.index /content/zips/{MODELNAME}/\n",
        "  !cp /content/Retrieval-based-Voice-Conversion-WebUI/logs/{MODELNAME}/total_*.npy /content/zips/{MODELNAME}/\n",
        "  !cp /content/Retrieval-based-Voice-Conversion-WebUI/weights/{MODELNAME}.pth /content/zips/{MODELNAME}/{MODELNAME}{MODELEPOCH}.pth\n",
        "  %cd /content/zips\n",
        "  !zip -r {MODELNAME}.zip {MODELNAME}\n",
        "if save_big_file:\n",
        "  %cd /content/Retrieval-based-Voice-Conversion-WebUI\n",
        "  latest_steps = -1\n",
        "  logs_folder = './logs/' + MODELNAME\n",
        "  for filename in os.listdir(logs_folder):#get the latest g and d files\n",
        "    if filename.startswith('G_') and filename.endswith('.pth'):\n",
        "      steps = int(filename.split('_')[1].split('.')[0])\n",
        "      if steps > latest_steps:\n",
        "        latest_steps = steps\n",
        "  MODELZIP = MODELNAME + '.zip'\n",
        "  !mkdir -p /content/zips\n",
        "  ZIPFILEPATH = os.path.join('/content/zips', MODELZIP)\n",
        "  for filename in os.listdir(logs_folder):\n",
        "    if 'G_' in filename or 'D_' in filename:\n",
        "      if str(latest_steps) in filename:\n",
        "        !zip -r {ZIPFILEPATH} {os.path.join(logs_folder, filename)}\n",
        "    else:\n",
        "      !zip -r {ZIPFILEPATH} {os.path.join(logs_folder, filename)}\n",
        "  for filename in os.listdir('./weights'):\n",
        "    if MODELNAME in filename:\n",
        "      !zip -r {ZIPFILEPATH} {os.path.join('./weights/', filename)}\n",
        "\n",
        "!mkdir -p /content/drive/MyDrive/RVC/\n",
        "shutil.move(f'/content/zips/{MODELNAME}.zip',f'/content/drive/MyDrive/RVC/{MODELNAME}.zip')\n",
        "%cd /content\n",
        "shutil.rmtree(\"/content/zips\")\n",
        "clear_output()\n",
        "display(success)"
      ],
      "metadata": {
        "cellView": "form",
        "id": "POuTKzt8gZmF"
      },
      "execution_count": null,
      "outputs": []
    },
    {
      "cell_type": "markdown",
      "source": [
        "#Extra Stuff (These are tools to make your job easier)"
      ],
      "metadata": {
        "id": "p9SHghdUw2O_"
      }
    },
    {
      "cell_type": "code",
      "source": [
        "#@markdown #Text To Speech GUI\n",
        "from IPython.display import clear_output\n",
        "if not \"tts_installed\" in locals():\n",
        "  %cd /content/\n",
        "  !pip uninstall -y cmake\n",
        "  !wget https://github.com/Kitware/CMake/releases/download/v3.22.1/cmake-3.22.1-linux-x86_64.tar.gz\n",
        "  !tar xf cmake-3.22.1-linux-x86_64.tar.gz\n",
        "  !rm cmake-3.22.1-linux-x86_64.tar.gz\n",
        "  !PATH=$PATH:/content/cmake-3.22.1-linux-x86_64/bin\n",
        "  import os\n",
        "  os.environ[\"PATH\"] += \":/content/cmake-3.22.1-linux-x86_64/bin\"\n",
        "  !apt-get install espeak\n",
        "  !git clone https://github.com/log1stics/voice-generator-webui\n",
        "  %cd voice-generator-webui\n",
        "  !chmod +x setup.sh\n",
        "  !./setup.sh\n",
        "  clear_output()\n",
        "  tts_installed=True\n",
        "%cd /content/Retrieval-based-Voice-Conversion-WebUI/weights/\n",
        "!for file in *.pth; do folder=\"${file%.pth}\"; mkdir -p \"/content/voice-generator-webui/vc/models/$folder\"; cp \"$file\" \"/content/voice-generator-webui/vc/models/$folder\"; mv \"$folder\" \"/content/voice-generator-webui/vc/models\"; done\n",
        "%cd /content/voice-generator-webui\n",
        "!python3 webui.py --colab"
      ],
      "metadata": {
        "cellView": "form",
        "id": "Y-6VkSiqXQcH"
      },
      "execution_count": null,
      "outputs": []
    },
    {
      "cell_type": "code",
      "source": [
        "#@title Easy Dataset Maker\n",
        "#@markdown Just upload the .wav acapellas you want into the **EasyDataset** folder (make sure it is good quality stuff, please)\n",
        "#@markdown Do not use spaces, weird symbols, or anything like that.\n",
        "if not \"pydub_installed\" in locals():\n",
        "  !pip install pydub --quiet\n",
        "  pydub_installed=True\n",
        "\n",
        "from pydub import AudioSegment\n",
        "import os, shutil, wave\n",
        "from google.colab import files\n",
        "auto_delete_original_acapella=True#@param {type:\"boolean\"}\n",
        "\n",
        "save_to_drive=True#@param {type:\"boolean\"}\n",
        "#@markdown Choose a name for your dataset (you will use this later in the GUI)\n",
        "dataset_name='mydataset'#@param {type:\"string\"}\n",
        "if not \"installed_pydub\" in locals():\n",
        "  !pip install pydub --quiet\n",
        "\n",
        "if not os.path.exists('/content/EasyDataset'):\n",
        "  !mkdir -p /content/EasyDataset\n",
        "  os.chdir('/content/EasyDataset')\n",
        "  print(\"Upload some files.\")\n",
        "  uploaded = files.upload()\n",
        "else:\n",
        "  os.chdir('/content/EasyDataset')\n",
        "  if not os.listdir():\n",
        "    print(\"Upload some files.\")\n",
        "    uploaded = files.upload()\n",
        "\n",
        "for filename in os.listdir():\n",
        "    if filename.endswith(\".wav\"):\n",
        "        sound = AudioSegment.from_wav(filename)\n",
        "        sound = sound.set_channels(1)\n",
        "        new_filename = filename\n",
        "        sound.export('mono_'+new_filename, format=\"wav\")\n",
        "        os.remove(filename)\n",
        "\n",
        "# define the length of each clip in seconds\n",
        "clip_length = 10\n",
        "# iterate over all .wav files in the current directory\n",
        "for filename in os.listdir():\n",
        "    if not filename.endswith('.wav'):\n",
        "        continue\n",
        "    # open the WAV file and get the sample rate\n",
        "    wav_file = wave.open(filename, 'rb')\n",
        "    sample_rate = wav_file.getframerate()\n",
        "    # calculate the number of frames in each clip\n",
        "    clip_frames = clip_length * sample_rate\n",
        "    # iterate over each clip and write it to a new file\n",
        "    for i in range(int(wav_file.getnframes() / clip_frames) + 1):\n",
        "        clip_name = f\"{filename.split('.')[0]}_{i+1}.wav\"\n",
        "        clip_path = 'split_'+clip_name\n",
        "        clip_start = i * clip_frames\n",
        "        clip_end = min((i+1) * clip_frames, wav_file.getnframes())\n",
        "\n",
        "        # write the clip to a new file\n",
        "        with wave.open(clip_path, 'wb') as clip_file:\n",
        "            clip_file.setparams(wav_file.getparams())\n",
        "            clip_file.writeframes(wav_file.readframes(clip_end - clip_start))\n",
        "    # close the original file\n",
        "    wav_file.close()\n",
        "    os.remove(filename)\n",
        "!mkdir -p /content/dataset/{dataset_name}\n",
        "for everything in os.listdir('/content/EasyDataset'):\n",
        "  shutil.move(everything, f'/content/dataset/{dataset_name}')\n",
        "!ls -a /content/dataset/\n",
        "!rename 's/(\\w+)\\.(\\w+)~(\\d*)/$1_$3.$2/' /content/dataset/*.*~*\n",
        "os.chdir(f'/content/dataset')\n",
        "print(f\"Your dataset has been saved to: /content/dataset/{dataset_name}\")\n",
        "if auto_delete_original_acapella:\n",
        "  shutil.rmtree('/content/EasyDataset')\n",
        "  !mkdir -p /content/EasyDataset\n",
        "if save_to_drive:\n",
        "  !zip -r {dataset_name}.zip {dataset_name}\n",
        "  shutil.move(f'/content/dataset/{dataset_name}.zip','/content/drive/MyDrive/dataset')\n",
        "os.chdir('/content')"
      ],
      "metadata": {
        "cellView": "form",
        "id": "dF8MCnjxldPC"
      },
      "execution_count": null,
      "outputs": []
    },
    {
      "cell_type": "code",
      "source": [
        "#@title Model Analyzer.\n",
        "#@markdown Tap this to figure out how many epochs your model was trained for or the sample rate.\n",
        "import torch, os\n",
        "#@markdown Enter the EXACT path to your model (the weight file).\n",
        "MODELPATH=''#@param {type:\"string\"}\n",
        "model_params = torch.load(MODELPATH)\n",
        "param_names = list(model_params.keys())\n",
        "#print(param_names)\n",
        "for key in model_params.keys():\n",
        "    if key == 'info':\n",
        "       print('Epochs: '+model_params[str(key)])\n",
        "    if key == 'sr':\n",
        "       print('Sample Rate: '+model_params[str(key)])"
      ],
      "metadata": {
        "id": "XGgTjE5r7ZF_",
        "cellView": "form"
      },
      "execution_count": null,
      "outputs": []
    },
    {
      "cell_type": "markdown",
      "source": [
        "#Rejekts' Models List:\n",
        "##I will be posting some of my models here for easy access. Copy the link and paste it on step 2 (and type the name of the artist)\n",
        "\n",
        "jungkook: https://drive.google.com/file/d/1i5CMlcnKfVEpzD5wvwjWytrwT2fT74g6/view?usp=share_link\n",
        "\n",
        "BENEE: https://drive.google.com/file/d/1nuUVTqg1_lja7JFctjd18W9hQ7rk7aDZ/view?usp=share_link\n",
        "\n",
        "shiloh: https://drive.google.com/file/d/12nk3OOEVdhWB6eBNYN5Gw0wbifIYx_fF/view?usp=share_link\n",
        "\n",
        "\n",
        "##Easy GUI colab:\n",
        "\n",
        "https://colab.research.google.com/drive/1r4IRL0UA7JEoZ0ZK8PKfMyTIBHKpyhcw?usp=sharing"
      ],
      "metadata": {
        "id": "Y13Eh9r_g8f-"
      }
    }
  ]
}